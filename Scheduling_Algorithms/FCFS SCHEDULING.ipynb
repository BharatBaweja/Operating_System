{
 "cells": [
  {
   "cell_type": "markdown",
   "metadata": {},
   "source": [
    "# FCFS WITH ARRIVAL TIME\n"
   ]
  },
  {
   "cell_type": "code",
   "execution_count": 1,
   "metadata": {},
   "outputs": [
    {
     "name": "stdout",
     "output_type": "stream",
     "text": [
      "Processes   Burst Time   Arrival Time     Waiting Time   Turn-Around Time  Completion Time \n",
      "\n",
      "  1 \t\t 11 \t\t 0 \t\t 0 \t\t  11 \t\t  11\n",
      "  2 \t\t 10 \t\t 5 \t\t 6 \t\t  16 \t\t  21\n",
      "  3 \t\t 7 \t\t 2 \t\t 19 \t\t  26 \t\t  28\n",
      "  4 \t\t 16 \t\t 9 \t\t 19 \t\t  35 \t\t  44\n",
      "Average waiting time = 11.00000 \n",
      "\n",
      "Average turn around time =  22.0\n"
     ]
    }
   ],
   "source": [
    "def findWaitingTime(processes, n, bt, wt, at):  \n",
    "    service_time = [0] * n  \n",
    "    service_time[0] = 0\n",
    "    wt[0] = 0\n",
    "    for i in range(1, n):  \n",
    "        service_time[i] = (service_time[i - 1] + bt[i - 1])    \n",
    "        wt[i] = service_time[i] - at[i]  \n",
    "        if (wt[i] < 0): \n",
    "            wt[i] = 0\n",
    "            \n",
    "def findTurnAroundTime(processes, n, bt, wt, tat):  \n",
    "    for i in range(n): \n",
    "        tat[i] = bt[i] + wt[i]  \n",
    "    \n",
    "def findavgTime(processes, n, bt, at):  \n",
    "    wt = [0] * n \n",
    "    tat = [0] * n  \n",
    "\n",
    "    findWaitingTime(processes, n, bt, wt, at)  \n",
    "  \n",
    "    findTurnAroundTime(processes, n, bt, wt, tat)  \n",
    "  \n",
    "    print(\"Processes   Burst Time   Arrival Time     Waiting\",  \n",
    "          \"Time   Turn-Around Time  Completion Time \\n\") \n",
    "    total_wt = 0\n",
    "    total_tat = 0\n",
    "    for i in range(n): \n",
    "  \n",
    "        total_wt = total_wt + wt[i]  \n",
    "        total_tat = total_tat + tat[i]  \n",
    "        compl_time = tat[i] + at[i]  \n",
    "        print(\" \", i + 1, \"\\t\\t\", bt[i], \"\\t\\t\", at[i],  \n",
    "              \"\\t\\t\", wt[i], \"\\t\\t \", tat[i], \"\\t\\t \", compl_time)  \n",
    "  \n",
    "    print(\"Average waiting time = %.5f \"%(total_wt /n)) \n",
    "    print(\"\\nAverage turn around time = \", total_tat / n)  \n",
    "\n",
    "processes = [0,1, 2, 3] \n",
    "n = 4\n",
    "\n",
    "burst_time = [11, 10,7, 16]  \n",
    "  \n",
    "arrival_time = [0, 5,2,9]  \n",
    "  \n",
    "findavgTime(processes, n, burst_time, \n",
    "                            arrival_time)\n"
   ]
  },
  {
   "cell_type": "markdown",
   "metadata": {},
   "source": [
    "# FCFS WITHOUT ARRIVAL TIME"
   ]
  },
  {
   "cell_type": "code",
   "execution_count": 3,
   "metadata": {},
   "outputs": [
    {
     "name": "stdout",
     "output_type": "stream",
     "text": [
      "Processes Burst time  Waiting time  Turn around time\n",
      " 1\t\t11\t 0\t\t 11\n",
      " 2\t\t10\t 11\t\t 21\n",
      " 3\t\t7\t 21\t\t 28\n",
      " 4\t\t16\t 28\t\t 44\n",
      "Average waiting time = 15.0\n",
      "Average turn around time = 26.0\n"
     ]
    }
   ],
   "source": [
    "def findWaitingTime(processes, n, bt, wt): \n",
    "    wt[0] = 0\n",
    "    for i in range(1, n ): \n",
    "        wt[i] = bt[i - 1] + wt[i - 1]        \n",
    "def findTurnAroundTime(processes, n,  bt, wt, tat): \n",
    "    for i in range(n): \n",
    "        tat[i] = bt[i] + wt[i] \n",
    "def findavgTime( processes, n, bt): \n",
    "    wt = [0] * n \n",
    "    tat = [0] * n  \n",
    "    total_wt = 0\n",
    "    total_tat = 0\n",
    "    findWaitingTime(processes, n, bt, wt) \n",
    "    findTurnAroundTime(processes, n,bt, wt, tat) \n",
    "    print( \"Processes Burst time \" + \n",
    "                  \" Waiting time \" + \n",
    "                \" Turn around time\") \n",
    "    for i in range(n): \n",
    "        total_wt = total_wt + wt[i] \n",
    "        total_tat = total_tat + tat[i] \n",
    "        print(\" \" + str(i + 1) + \"\\t\\t\" + \n",
    "                    str(bt[i]) + \"\\t \" + \n",
    "                    str(wt[i]) + \"\\t\\t \" + \n",
    "                    str(tat[i]))  \n",
    "    print( \"Average waiting time = \"+\n",
    "                   str(total_wt / n)) \n",
    "    print(\"Average turn around time = \"+\n",
    "                     str(total_tat / n)) \n",
    "processes = [0,1, 2, 3] \n",
    "n = 4\n",
    "burst_time = [11, 10,7, 16]  \n",
    "arrival_time = [0, 5,2,9]  \n",
    "findavgTime(processes, n, burst_time) "
   ]
  },
  {
   "cell_type": "markdown",
   "metadata": {},
   "source": [
    "Average Waiting time with arrival time is 11 and have turnaround time of 22 whereas without Arrival time average waiting time is 15 and turnaround time of 26"
   ]
  },
  {
   "cell_type": "code",
   "execution_count": null,
   "metadata": {},
   "outputs": [],
   "source": []
  }
 ],
 "metadata": {
  "kernelspec": {
   "display_name": "Python 3",
   "language": "python",
   "name": "python3"
  },
  "language_info": {
   "codemirror_mode": {
    "name": "ipython",
    "version": 3
   },
   "file_extension": ".py",
   "mimetype": "text/x-python",
   "name": "python",
   "nbconvert_exporter": "python",
   "pygments_lexer": "ipython3",
   "version": "3.8.3"
  }
 },
 "nbformat": 4,
 "nbformat_minor": 4
}

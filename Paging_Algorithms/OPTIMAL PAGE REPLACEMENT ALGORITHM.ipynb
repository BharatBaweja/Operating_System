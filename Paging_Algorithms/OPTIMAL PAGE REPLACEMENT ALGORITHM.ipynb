{
 "cells": [
  {
   "cell_type": "code",
   "execution_count": 17,
   "metadata": {},
   "outputs": [
    {
     "name": "stdout",
     "output_type": "stream",
     "text": [
      "Enter reference window size: 3\n",
      "Enter pages: 3 2 1 5 3 9\n",
      "Page Faults:  5\n"
     ]
    }
   ],
   "source": [
    "capacity = int(input(\"Enter reference window size: \")) \n",
    "pages = input(\"Enter pages: \").split() \n",
    "s=[]\n",
    "pageFaults=0\n",
    "for i in range(len(pages)):\n",
    "      if pages[i] not in s:\n",
    "        if len(s)< capacity:\n",
    "            s.append(pages[i])\n",
    "        else:\n",
    "            for x in range(len(s)):\n",
    "                if (s[x] not in pages[i+1:]) and i<len(pages):\n",
    "                    s[x] = pages[i]\n",
    "                    break\n",
    "        pageFaults +=1  \n",
    "print(\"Page Faults: \", pageFaults)"
   ]
  },
  {
   "cell_type": "code",
   "execution_count": null,
   "metadata": {},
   "outputs": [],
   "source": []
  }
 ],
 "metadata": {
  "kernelspec": {
   "display_name": "Python 3",
   "language": "python",
   "name": "python3"
  },
  "language_info": {
   "codemirror_mode": {
    "name": "ipython",
    "version": 3
   },
   "file_extension": ".py",
   "mimetype": "text/x-python",
   "name": "python",
   "nbconvert_exporter": "python",
   "pygments_lexer": "ipython3",
   "version": "3.8.3"
  }
 },
 "nbformat": 4,
 "nbformat_minor": 4
}

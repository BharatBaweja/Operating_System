{
 "cells": [
  {
   "cell_type": "code",
   "execution_count": 4,
   "metadata": {},
   "outputs": [
    {
     "name": "stdout",
     "output_type": "stream",
     "text": [
      "Enter page reference: 7 0 1 2 0 3 0 4 2 3 0 3 2\n",
      "Enter window size: 4\n",
      "7\n"
     ]
    }
   ],
   "source": [
    "from queue import Queue  \n",
    "def pageFaults(pages, n, capacity):  \n",
    "    s = set()   \n",
    "    indexes = Queue()    \n",
    "    page_faults = 0\n",
    "    for i in range(n): \n",
    "        if (len(s) < capacity):\n",
    "            if (pages[i] not in s): \n",
    "                s.add(pages[i])    \n",
    "                page_faults += 1\n",
    "                indexes.put(pages[i])  \n",
    "        else: \n",
    "            if (pages[i] not in s):  \n",
    "                val = indexes.queue[0]  \n",
    "                indexes.get()   \n",
    "                s.remove(val)    \n",
    "                s.add(pages[i])  \n",
    "                indexes.put(pages[i])    \n",
    "                page_faults += 1\n",
    "    return page_faults \n",
    "  \n",
    "if __name__ == '__main__': \n",
    "    pages = input(\"Enter page reference: \").split()\n",
    "    n = len(pages)  \n",
    "    capacity = int(input(\"Enter window size: \"))\n",
    "    print(pageFaults(pages, n, capacity)) \n",
    "       "
   ]
  },
  {
   "cell_type": "code",
   "execution_count": null,
   "metadata": {},
   "outputs": [],
   "source": [
    "      \n",
    "    "
   ]
  },
  {
   "cell_type": "code",
   "execution_count": null,
   "metadata": {},
   "outputs": [],
   "source": [
    "\n"
   ]
  },
  {
   "cell_type": "code",
   "execution_count": null,
   "metadata": {},
   "outputs": [],
   "source": []
  }
 ],
 "metadata": {
  "kernelspec": {
   "display_name": "Python 3",
   "language": "python",
   "name": "python3"
  },
  "language_info": {
   "codemirror_mode": {
    "name": "ipython",
    "version": 3
   },
   "file_extension": ".py",
   "mimetype": "text/x-python",
   "name": "python",
   "nbconvert_exporter": "python",
   "pygments_lexer": "ipython3",
   "version": "3.8.3"
  }
 },
 "nbformat": 4,
 "nbformat_minor": 4
}

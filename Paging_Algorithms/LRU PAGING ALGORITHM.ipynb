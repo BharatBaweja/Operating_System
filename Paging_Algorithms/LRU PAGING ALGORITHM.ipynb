{
 "cells": [
  {
   "cell_type": "code",
   "execution_count": 2,
   "metadata": {},
   "outputs": [
    {
     "name": "stdout",
     "output_type": "stream",
     "text": [
      "Enter reference window size: 4\n",
      "Enter pages: 7 0 1 2 0 3 0 4 2 3 0 3 2\n",
      "Page Faults:  6\n"
     ]
    }
   ],
   "source": [
    "capacity = int(input(\"Enter reference window size: \")) \n",
    "pages = input(\"Enter pages: \").split() \n",
    "s = []  \n",
    "pageFaults = 0\n",
    "  \n",
    "for i in processList:  \n",
    "    if i not in s:  \n",
    "        if(len(s) == capacity): \n",
    "            s.remove(s[0]) \n",
    "            s.append(i) \n",
    "        else: \n",
    "            s.append(i)  \n",
    "        pageFaults +=1 \n",
    "    else:  \n",
    "        s.remove(i)  \n",
    "        s.append(i) \n",
    "print(\"Page Faults: \",pageFaults) "
   ]
  },
  {
   "cell_type": "code",
   "execution_count": null,
   "metadata": {},
   "outputs": [],
   "source": []
  }
 ],
 "metadata": {
  "kernelspec": {
   "display_name": "Python 3",
   "language": "python",
   "name": "python3"
  },
  "language_info": {
   "codemirror_mode": {
    "name": "ipython",
    "version": 3
   },
   "file_extension": ".py",
   "mimetype": "text/x-python",
   "name": "python",
   "nbconvert_exporter": "python",
   "pygments_lexer": "ipython3",
   "version": "3.8.3"
  }
 },
 "nbformat": 4,
 "nbformat_minor": 4
}
